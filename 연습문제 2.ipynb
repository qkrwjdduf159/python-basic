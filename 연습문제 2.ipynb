{
 "cells": [
  {
   "cell_type": "code",
   "execution_count": 250,
   "metadata": {},
   "outputs": [
    {
     "name": "stdout",
     "output_type": "stream",
     "text": [
      "['', 'usr', 'local', 'bin', 'python']\n",
      "usr , local , bin , python , /usr/local/bin,python\n"
     ]
    }
   ],
   "source": [
    "# 문제 1\n",
    "# 파이썬 경로인 s = '/usr/local/bin/python' 에서 각각의 디렉토리 경로명을 분리하여 출력하세요.\n",
    "\n",
    "s = '/usr/local/bin/python' \n",
    "s1=s[:].split('/')\n",
    "print(s1)\n",
    "del s1[0]\n",
    "for i in s1:\n",
    "    print(i, end = ' , ')\n",
    "for i in s1[0:3]:\n",
    "    print('/'+i, end='')\n",
    "print(',python')"
   ]
  },
  {
   "cell_type": "code",
   "execution_count": 230,
   "metadata": {},
   "outputs": [
    {
     "name": "stdout",
     "output_type": "stream",
     "text": [
      "\n",
      "\n",
      "    \n",
      "        Click\n",
      "        Here\n",
      "        \n",
      "        \tTo connect to the most powerful tools in the world.\n",
      "        \n",
      "    \n",
      "\n"
     ]
    }
   ],
   "source": [
    "# 문제2. 다음과 같은 텍스트에서 모든 테그를 제외한 텍스트만 출력하세요.\n",
    "s = \"\"\"\n",
    "<html>\n",
    "    <body style='background-color:#ffff'>\n",
    "        <h4>Click</h4>\n",
    "        <a href='http://www.python.org'>Here</a>\n",
    "        <p>\n",
    "        \tTo connect to the most powerful tools in the world.\n",
    "        </p>\n",
    "    </body>\n",
    "</html>\"\"\"\n",
    "indexbegin = 0\n",
    "while True:\n",
    "    indexbegin = s.find('<', indexbegin)\n",
    "    if indexbegin ==-1:\n",
    "        break\n",
    "    indexend = s.find('>')\n",
    "    if indexend != -1:\n",
    "        s = s[:indexbegin] + s[indexend+1:]\n",
    "    else:\n",
    "        idexend += 1\n",
    "print(s)"
   ]
  },
  {
   "cell_type": "code",
   "execution_count": 251,
   "metadata": {
    "scrolled": false
   },
   "outputs": [
    {
     "name": "stdout",
     "output_type": "stream",
     "text": [
      "AFTER:1\n",
      "AVAILABLE:1\n",
      "CONTRIBUTE:1\n",
      "CONTRIBUTORS:1\n",
      "ENCOURAGE:1\n",
      "EVERYONE:1\n",
      "GROUP:1\n",
      "GUIDE:2\n",
      "HAVE:1\n",
      "HELP:1\n",
      "IF:1\n",
      "IS:1\n",
      "MATERIAL\n",
      "IN:1\n",
      "MENTORS:1\n",
      "NEW:1\n",
      "PROCESS:1\n",
      "PYTHON:2\n",
      "QUESTIONS:1\n",
      "REVIEWING:1\n",
      "STILL:1\n",
      "THE:3\n",
      "THEN:1\n",
      "THIS:1\n",
      "THROUGH:1\n",
      "TO:3\n",
      "WE:1\n",
      "YOU:1\n"
     ]
    }
   ],
   "source": [
    "#문제3. 다음 문자열을 모든 대문자를 소문자로 변환하고,\n",
    "#문자',','.','\\n' 를 없앤 후에 각 단어를 순서대로 출력하세요.\n",
    "s = \"\"\"We encourage everyone to contribute to Python. If you still have questions after reviewing the material\n",
    "in this guide, then the Python Mentors group is available to help guide new contributors through the process.\"\"\"\n",
    "\n",
    "s = s.replace(',','').replace('.','').upper()\n",
    "words = s.split(' ')\n",
    "words_results = list(set(words))\n",
    "words_results.sort(key = str)\n",
    "\n",
    "for word in words_results:\n",
    "    print('{0}:{1}'.format(word,words.count(word)))"
   ]
  },
  {
   "cell_type": "code",
   "execution_count": 110,
   "metadata": {},
   "outputs": [
    {
     "name": "stdout",
     "output_type": "stream",
     "text": [
      "3 짝\n",
      "6 짝\n",
      "9 짝\n",
      "13 짝\n",
      "16 짝\n",
      "19 짝\n",
      "23 짝\n",
      "26 짝\n",
      "29 짝\n",
      "30 짝\n",
      "31 짝\n",
      "32 짝\n",
      "33 짝짝\n",
      "34 짝\n",
      "35 짝\n",
      "36 짝짝\n",
      "37 짝\n",
      "38 짝\n",
      "39 짝짝\n",
      "43 짝\n",
      "46 짝\n",
      "49 짝\n",
      "53 짝\n",
      "56 짝\n",
      "59 짝\n",
      "60 짝\n",
      "61 짝\n",
      "62 짝\n",
      "63 짝짝\n",
      "64 짝\n",
      "65 짝\n",
      "66 짝짝\n",
      "67 짝\n",
      "68 짝\n",
      "69 짝짝\n",
      "73 짝\n",
      "76 짝\n",
      "79 짝\n",
      "83 짝\n",
      "86 짝\n",
      "89 짝\n",
      "90 짝\n",
      "91 짝\n",
      "92 짝\n",
      "93 짝짝\n",
      "94 짝\n",
      "95 짝\n",
      "96 짝짝\n",
      "97 짝\n",
      "98 짝\n",
      "99 짝짝\n"
     ]
    }
   ],
   "source": [
    "#문제4\n",
    "#반복문을 이용하여 369게임에서 박수를 쳐야 하는 경우의 수를 순서대로 화면에\n",
    "#출력해보세요. 1부터 99까지만 실행하세요.\n",
    "import numpy as np\n",
    "n = np.arange(100)\n",
    "s = str(n)\n",
    "claps = s.count('3') +s.count('6') + s.count('9')\n",
    "for i in n:\n",
    "    s = str(i)\n",
    "    claps = s.count('3') +s.count('6') + s.count('9')\n",
    "    if claps > 0 :\n",
    "        print(i,'짝'*claps)"
   ]
  },
  {
   "cell_type": "code",
   "execution_count": 189,
   "metadata": {},
   "outputs": [
    {
     "name": "stdout",
     "output_type": "stream",
     "text": [
      "수를 결정하였습니다. 맞추어 보세요.\n",
      "1-100\n",
      "1>>50\n",
      "더 높게\n",
      "2>>70\n",
      "더 낮게\n",
      "3>>60\n",
      "더 높게\n",
      "4>>61\n",
      "더 높게\n",
      "5>>62\n",
      "더 높게\n",
      "6>>63\n",
      "더 높게\n",
      "7>>64\n",
      "더 높게\n",
      "8>>65\n",
      "더 높게\n",
      "9>>66\n",
      "더 높게\n",
      "10>>67\n",
      "맞았습니다\n",
      "다시 하시겠습니까(y/n)>>y\n"
     ]
    }
   ],
   "source": [
    "#문제6\n",
    "#숨겨진 카드의 수를 맞추는 게임입니다. 1-100까지의 임의의 수를 가진 카드를 한 장 숨기고\n",
    "#이 카드의 수를 맞추는 게임입니다. 아래의 화면과 같이 카드 속의 수가 57인 경우를 보면 수를\n",
    "#맞추는 사람이 40이라고 입력하면 \"더 높게\", 다시 75이라고 입력하면 \"더 낮게\" 라는 식으로\n",
    "#범위를 좁혀가며 수를 맞추고 있습니다. 게임을 반복하기 위해 y/n이라고 묻고 n인 경우 종료됩니다.\n",
    "print('수를 결정하였습니다. 맞추어 보세요.')\n",
    "print('1-100')\n",
    "import random\n",
    "import numpy as np\n",
    "\n",
    "r = np.random.randint(1,100)\n",
    "count = 1\n",
    "\n",
    "while True:\n",
    "    n = input(f'{count}>>')\n",
    "    number = int(n)\n",
    "    if r == number:\n",
    "        print('맞았습니다')\n",
    "        input('다시 하시겠습니까(y/n)>>')\n",
    "        break\n",
    "    if r > number:\n",
    "        print('더 높게')\n",
    "    else:\n",
    "        print('더 낮게')\n",
    "    count = count +1"
   ]
  },
  {
   "cell_type": "code",
   "execution_count": 178,
   "metadata": {},
   "outputs": [
    {
     "name": "stdout",
     "output_type": "stream",
     "text": [
      "88\n"
     ]
    }
   ],
   "source": []
  },
  {
   "cell_type": "code",
   "execution_count": 182,
   "metadata": {},
   "outputs": [
    {
     "ename": "SyntaxError",
     "evalue": "invalid syntax (<ipython-input-182-9ce7b2f28981>, line 1)",
     "output_type": "error",
     "traceback": [
      "\u001b[1;36m  File \u001b[1;32m\"<ipython-input-182-9ce7b2f28981>\"\u001b[1;36m, line \u001b[1;32m1\u001b[0m\n\u001b[1;33m    [1:100]\u001b[0m\n\u001b[1;37m      ^\u001b[0m\n\u001b[1;31mSyntaxError\u001b[0m\u001b[1;31m:\u001b[0m invalid syntax\n"
     ]
    }
   ],
   "source": []
  },
  {
   "cell_type": "code",
   "execution_count": null,
   "metadata": {},
   "outputs": [],
   "source": []
  }
 ],
 "metadata": {
  "kernelspec": {
   "display_name": "Python 3",
   "language": "python",
   "name": "python3"
  },
  "language_info": {
   "codemirror_mode": {
    "name": "ipython",
    "version": 3
   },
   "file_extension": ".py",
   "mimetype": "text/x-python",
   "name": "python",
   "nbconvert_exporter": "python",
   "pygments_lexer": "ipython3",
   "version": "3.8.3"
  }
 },
 "nbformat": 4,
 "nbformat_minor": 4
}

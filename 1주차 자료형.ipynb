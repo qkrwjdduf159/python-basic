{
 "cells": [
  {
   "cell_type": "code",
   "execution_count": 1,
   "metadata": {},
   "outputs": [
    {
     "name": "stdout",
     "output_type": "stream",
     "text": [
      "hello\n"
     ]
    }
   ],
   "source": [
    "print('hello')"
   ]
  },
  {
   "cell_type": "code",
   "execution_count": 4,
   "metadata": {},
   "outputs": [
    {
     "data": {
      "text/plain": [
       "True"
      ]
     },
     "execution_count": 4,
     "metadata": {},
     "output_type": "execute_result"
    }
   ],
   "source": [
    "a = 10 #한개짜리 =은 대입을 의미한다.\n",
    "a == 10 # 같은것을 True와 False로 출력한다."
   ]
  },
  {
   "cell_type": "code",
   "execution_count": 7,
   "metadata": {},
   "outputs": [
    {
     "name": "stdout",
     "output_type": "stream",
     "text": [
      "Hello World\n"
     ]
    }
   ],
   "source": [
    "print('Hello World')"
   ]
  },
  {
   "cell_type": "code",
   "execution_count": 9,
   "metadata": {},
   "outputs": [],
   "source": [
    "#IDE (Integrated Developement Environment, 통합개발환경)\n",
    "# pycharm\n",
    "# vscode"
   ]
  },
  {
   "cell_type": "code",
   "execution_count": 11,
   "metadata": {},
   "outputs": [
    {
     "name": "stdout",
     "output_type": "stream",
     "text": [
      "Hello World\n"
     ]
    }
   ],
   "source": [
    "print('Hello World')"
   ]
  },
  {
   "cell_type": "code",
   "execution_count": 12,
   "metadata": {},
   "outputs": [
    {
     "name": "stdout",
     "output_type": "stream",
     "text": [
      "10\n",
      "big\n",
      "end\n"
     ]
    }
   ],
   "source": [
    "a = 10\n",
    "b = 20\n",
    "\n",
    "if a<b:\n",
    "    print(a)\n",
    "    print('big')\n",
    "    if a+1 ==2:\n",
    "        print(a+1)\n",
    "        print(a+2)\n",
    "print('end')"
   ]
  },
  {
   "cell_type": "code",
   "execution_count": 3,
   "metadata": {
    "scrolled": true
   },
   "outputs": [],
   "source": [
    "friend = 1\n",
    "a =10\n",
    "my_name = '박정열'\n",
    "_yourName = '둘리'\n",
    "member1 = '도우넛'\n",
    "\n",
    "# 에러\n",
    "# friends$ = 1\n",
    "# a! = 10\n",
    "# 1abc =  10\n",
    "# def =10"
   ]
  },
  {
   "cell_type": "code",
   "execution_count": 5,
   "metadata": {},
   "outputs": [
    {
     "name": "stdout",
     "output_type": "stream",
     "text": [
      "['False', 'None', 'True', 'and', 'as', 'assert', 'async', 'await', 'break', 'class', 'continue', 'def', 'del', 'elif', 'else', 'except', 'finally', 'for', 'from', 'global', 'if', 'import', 'in', 'is', 'lambda', 'nonlocal', 'not', 'or', 'pass', 'raise', 'return', 'try', 'while', 'with', 'yield']\n"
     ]
    }
   ],
   "source": [
    "import keyword\n",
    "print(keyword.kwlist)"
   ]
  },
  {
   "cell_type": "code",
   "execution_count": 6,
   "metadata": {},
   "outputs": [
    {
     "name": "stdout",
     "output_type": "stream",
     "text": [
      "1000\n"
     ]
    }
   ],
   "source": [
    "가격1 = 2000\n",
    "print(가격1 - 1000 )"
   ]
  },
  {
   "cell_type": "code",
   "execution_count": 11,
   "metadata": {},
   "outputs": [],
   "source": [
    "# 치환문"
   ]
  },
  {
   "cell_type": "code",
   "execution_count": null,
   "metadata": {},
   "outputs": [],
   "source": [
    "# literal로 대입"
   ]
  },
  {
   "cell_type": "code",
   "execution_count": 12,
   "metadata": {},
   "outputs": [],
   "source": [
    "a = 1\n",
    "# 변수 이름\n",
    "b = a"
   ]
  },
  {
   "cell_type": "code",
   "execution_count": 13,
   "metadata": {},
   "outputs": [
    {
     "name": "stdout",
     "output_type": "stream",
     "text": [
      "1 1\n"
     ]
    }
   ],
   "source": [
    "print(a,b)"
   ]
  },
  {
   "cell_type": "code",
   "execution_count": 14,
   "metadata": {},
   "outputs": [],
   "source": [
    "# 연산식\n",
    "c = a+b"
   ]
  },
  {
   "cell_type": "code",
   "execution_count": 15,
   "metadata": {},
   "outputs": [
    {
     "data": {
      "text/plain": [
       "2"
      ]
     },
     "execution_count": 15,
     "metadata": {},
     "output_type": "execute_result"
    }
   ],
   "source": [
    "c"
   ]
  },
  {
   "cell_type": "code",
   "execution_count": 20,
   "metadata": {},
   "outputs": [
    {
     "name": "stdout",
     "output_type": "stream",
     "text": [
      "3.5 4.8 9.8\n"
     ]
    }
   ],
   "source": [
    "# 여러 개를 한번에 치환\n",
    "e,f,g = 3.5,4.8,9.8\n",
    "print(e,f,g)"
   ]
  },
  {
   "cell_type": "code",
   "execution_count": 23,
   "metadata": {},
   "outputs": [
    {
     "name": "stdout",
     "output_type": "stream",
     "text": [
      "10 20\n"
     ]
    }
   ],
   "source": [
    "# swap\n",
    "x =10\n",
    "y =20\n",
    "print(x,y)"
   ]
  },
  {
   "cell_type": "code",
   "execution_count": 24,
   "metadata": {},
   "outputs": [
    {
     "name": "stdout",
     "output_type": "stream",
     "text": [
      "20 10\n"
     ]
    }
   ],
   "source": [
    "# temp\n",
    "temp = x\n",
    "x = y\n",
    "y = temp\n",
    "print(x,y)"
   ]
  },
  {
   "cell_type": "code",
   "execution_count": 27,
   "metadata": {},
   "outputs": [
    {
     "name": "stdout",
     "output_type": "stream",
     "text": [
      "100 200\n",
      "200 100\n"
     ]
    }
   ],
   "source": [
    "# 파이썬 swap\n",
    "x = 100\n",
    "y = 200\n",
    "print(x,y)\n",
    "x,y = y,x\n",
    "print(x,y)"
   ]
  },
  {
   "cell_type": "markdown",
   "metadata": {},
   "source": [
    "# 부울(boolean) 참이나 거짓을 나타내는 값"
   ]
  },
  {
   "cell_type": "code",
   "execution_count": 18,
   "metadata": {},
   "outputs": [],
   "source": [
    "b0 = True\n",
    "b1 = False"
   ]
  },
  {
   "cell_type": "code",
   "execution_count": 19,
   "metadata": {},
   "outputs": [],
   "source": [
    "a = 1\n",
    "b = 2"
   ]
  },
  {
   "cell_type": "code",
   "execution_count": 20,
   "metadata": {},
   "outputs": [
    {
     "name": "stdout",
     "output_type": "stream",
     "text": [
      "False <class 'bool'>\n"
     ]
    }
   ],
   "source": [
    "b3 = a>b\n",
    "print(b3, type(b3))"
   ]
  },
  {
   "cell_type": "code",
   "execution_count": 21,
   "metadata": {},
   "outputs": [
    {
     "name": "stdout",
     "output_type": "stream",
     "text": [
      "0\n"
     ]
    }
   ],
   "source": [
    "b4 =b3*10   # True(1), False(0) 두 리터럴만 가진다.\n",
    "print(b4)"
   ]
  },
  {
   "cell_type": "code",
   "execution_count": 22,
   "metadata": {},
   "outputs": [
    {
     "name": "stdout",
     "output_type": "stream",
     "text": [
      "0\n",
      "False\n",
      "True\n"
     ]
    }
   ],
   "source": [
    "print(True *False)\n",
    "print(True and False)\n",
    "print(True or False)"
   ]
  },
  {
   "cell_type": "markdown",
   "metadata": {},
   "source": [
    "# 정수형"
   ]
  },
  {
   "cell_type": "code",
   "execution_count": 27,
   "metadata": {},
   "outputs": [
    {
     "name": "stdout",
     "output_type": "stream",
     "text": [
      "23 <class 'int'>\n",
      "23 False\n",
      "23 True\n"
     ]
    }
   ],
   "source": [
    "a = 23\n",
    "b = 20+3\n",
    "\n",
    "print(a, type(a))\n",
    "print(b, isinstance(b,bool))\n",
    "print(b, isinstance(b,int))"
   ]
  },
  {
   "cell_type": "code",
   "execution_count": 33,
   "metadata": {},
   "outputs": [
    {
     "name": "stdout",
     "output_type": "stream",
     "text": [
      "13\n"
     ]
    }
   ],
   "source": [
    "# 2진수, 10진수, 8진수, 16진수\n",
    "c = 0b1101\n",
    "print(c) #-->> 2진수"
   ]
  },
  {
   "cell_type": "code",
   "execution_count": 34,
   "metadata": {},
   "outputs": [
    {
     "name": "stdout",
     "output_type": "stream",
     "text": [
      "19\n"
     ]
    }
   ],
   "source": [
    "d = 0o23\n",
    "print(d) #-->> 8진수"
   ]
  },
  {
   "cell_type": "code",
   "execution_count": 35,
   "metadata": {},
   "outputs": [
    {
     "name": "stdout",
     "output_type": "stream",
     "text": [
      "35\n"
     ]
    }
   ],
   "source": [
    "e = 0x23\n",
    "print(e) #-->> 16진수"
   ]
  },
  {
   "cell_type": "code",
   "execution_count": null,
   "metadata": {},
   "outputs": [],
   "source": [
    "# python 3.x에서 int,long 합쳐졌다. 따라서 표현범위가 무한대다."
   ]
  },
  {
   "cell_type": "code",
   "execution_count": 45,
   "metadata": {},
   "outputs": [
    {
     "name": "stdout",
     "output_type": "stream",
     "text": [
      "179769313486231590772930519078902473361797697894230657273430081157732675805500963132708477322407536021120113879871393357658789768814416622492847430639474124377767893424865485276302219601246094119453082952085005768838150682342462881473913110540827237163350510684586298239947245938479716304835356329624224137216 <class 'int'>\n",
      "1025\n"
     ]
    }
   ],
   "source": [
    "e = 2**1024\n",
    "print(e, type(e))\n",
    "print(e.bit_length())"
   ]
  },
  {
   "cell_type": "code",
   "execution_count": 40,
   "metadata": {},
   "outputs": [
    {
     "name": "stdout",
     "output_type": "stream",
     "text": [
      "0o46\n",
      "0x26\n",
      "0b100110\n"
     ]
    }
   ],
   "source": [
    "# 변환함수\n",
    "print(oct(38))\n",
    "print(hex(38))\n",
    "print(bin(38))"
   ]
  },
  {
   "cell_type": "code",
   "execution_count": 50,
   "metadata": {},
   "outputs": [
    {
     "name": "stdout",
     "output_type": "stream",
     "text": [
      "1.2 <class 'float'>\n",
      "2.0 <class 'float'>\n",
      "True\n"
     ]
    }
   ],
   "source": [
    "# floot형\n",
    "a = 1.2\n",
    "print(a, type(a))\n",
    "b = 2.0\n",
    "print(b, type(b))\n",
    "c = 2.\n",
    "print(c.is_integer())"
   ]
  },
  {
   "cell_type": "code",
   "execution_count": 54,
   "metadata": {},
   "outputs": [
    {
     "name": "stdout",
     "output_type": "stream",
     "text": [
      "3000.0 <class 'float'>\n",
      "2e-05 <class 'float'>\n"
     ]
    }
   ],
   "source": [
    "# 지수표현  0.0001 => 1e--4\n",
    "# 다른 언어처럼 소수점 표현도 가능하고, E 지수표현도 가능하다.\n",
    "c = 3e3\n",
    "print(c, type(c))\n",
    "e = 0.2e-4\n",
    "print(e, type(e))"
   ]
  },
  {
   "cell_type": "code",
   "execution_count": 59,
   "metadata": {},
   "outputs": [
    {
     "name": "stdout",
     "output_type": "stream",
     "text": [
      "(4+3j) <class 'complex'>\n",
      "(11+1j)\n"
     ]
    }
   ],
   "source": [
    "# 복소수 실수부 +허수부\n",
    "# 허수부는 j,J를 숫자뒤에 붙힌다.\n",
    "a = 4 + 3j\n",
    "print(a, type(a))\n",
    "# 복소수 연산\n",
    "b = 7- 2j\n",
    "print(a+b)\n",
    "# 실수는 실수끼리 허수는 허수끼리 계산이 된다."
   ]
  },
  {
   "cell_type": "code",
   "execution_count": 57,
   "metadata": {},
   "outputs": [
    {
     "data": {
      "text/plain": [
       "False"
      ]
     },
     "execution_count": 57,
     "metadata": {},
     "output_type": "execute_result"
    }
   ],
   "source": [
    "a = 10 + 20\n",
    "b = 10 > 20\n",
    "(((10 *b) - 10)>a) and (20<a)"
   ]
  },
  {
   "cell_type": "markdown",
   "metadata": {},
   "source": [
    "# 산술연산"
   ]
  },
  {
   "cell_type": "code",
   "execution_count": 63,
   "metadata": {},
   "outputs": [],
   "source": [
    "# 문자가 여러개 모여있는 것은 string\n",
    "# 숫자가 여러개 모여있으면 list\n",
    "#  "
   ]
  },
  {
   "cell_type": "code",
   "execution_count": 69,
   "metadata": {},
   "outputs": [],
   "source": [
    "# 산술연산 +,-,* ,/ \n",
    "# 관계연산 > ,< ,>= ,== ,<= \n",
    "# 논리연산 True, False\n",
    "# 비트연산"
   ]
  },
  {
   "cell_type": "markdown",
   "metadata": {},
   "source": [
    "# 사칙연산"
   ]
  },
  {
   "cell_type": "code",
   "execution_count": 75,
   "metadata": {},
   "outputs": [
    {
     "name": "stdout",
     "output_type": "stream",
     "text": [
      "5\n",
      "-1\n",
      "6\n",
      "0.6666666666666666\n"
     ]
    }
   ],
   "source": [
    "print(2+3)\n",
    "print(2-3)\n",
    "print(2*3)\n",
    "print(2/3)"
   ]
  },
  {
   "cell_type": "code",
   "execution_count": 83,
   "metadata": {
    "scrolled": true
   },
   "outputs": [
    {
     "name": "stdout",
     "output_type": "stream",
     "text": [
      "0\n",
      "8\n",
      "2\n"
     ]
    }
   ],
   "source": [
    "# //(몫 연산), **(지수 승), %(나머지)\n",
    "print(2//3)\n",
    "print(2**3)\n",
    "print(2%3)"
   ]
  },
  {
   "cell_type": "code",
   "execution_count": 105,
   "metadata": {},
   "outputs": [
    {
     "name": "stdout",
     "output_type": "stream",
     "text": [
      "(0, 2) <class 'tuple'>\n",
      "0 2\n"
     ]
    }
   ],
   "source": [
    "# divmod()함수  -->>  a에는 몫이 b에는 나머지가 들어간다\n",
    "result = divmod(2,3) # tuple하나를 입력해주고\n",
    "print(result, type(result)) \n",
    "a,b = result ##  -->> unpacking\n",
    "print(a,b)"
   ]
  },
  {
   "cell_type": "markdown",
   "metadata": {},
   "source": [
    "# 연산자 우선"
   ]
  },
  {
   "cell_type": "code",
   "execution_count": 106,
   "metadata": {},
   "outputs": [
    {
     "name": "stdout",
     "output_type": "stream",
     "text": [
      "14\n",
      "10\n",
      "-20\n"
     ]
    }
   ],
   "source": [
    "# 1.-\n",
    "# 2.*,/ \n",
    "# 3.+,-\n",
    "print(2+3*4)\n",
    "print(-2+3*4)\n",
    "print(-(2+3)*4)"
   ]
  },
  {
   "cell_type": "code",
   "execution_count": 107,
   "metadata": {},
   "outputs": [
    {
     "name": "stdout",
     "output_type": "stream",
     "text": [
      "2417851639229258349412352\n",
      "4096\n",
      "2417851639229258349412352\n"
     ]
    }
   ],
   "source": [
    "# 결합순서\n",
    "# 1. -> : + - * / \n",
    "# 2. <- : +(부호), -(부호),=, **\n",
    "print(2**3**4)\n",
    "print((2**3)**4)\n",
    "print(2**(3**4))"
   ]
  },
  {
   "cell_type": "markdown",
   "metadata": {},
   "source": [
    "# 객체의 대소 비교"
   ]
  },
  {
   "cell_type": "code",
   "execution_count": 112,
   "metadata": {},
   "outputs": [
    {
     "name": "stdout",
     "output_type": "stream",
     "text": [
      "False\n",
      "False\n",
      "True\n",
      "False\n",
      "False\n",
      "True\n"
     ]
    }
   ],
   "source": [
    "a = 1\n",
    "b = 3\n",
    "print(a > b)\n",
    "print(2 > 4)\n",
    "print( 1 <= 3)\n",
    "print( 1 >=4)\n",
    "print( 1 == 3)\n",
    "print( 1 != 3)"
   ]
  },
  {
   "cell_type": "code",
   "execution_count": 118,
   "metadata": {},
   "outputs": [
    {
     "name": "stdout",
     "output_type": "stream",
     "text": [
      "True\n",
      "True\n"
     ]
    }
   ],
   "source": [
    "# 복합 관계식\n",
    "# 0 < a < 10\n",
    "a = 4\n",
    "print(0 < a and a < 10) # 다른 프로그래밍이랑 다르게 복합관계식이 가능하다 \n",
    "print(0 < a < 10)"
   ]
  },
  {
   "cell_type": "code",
   "execution_count": 127,
   "metadata": {},
   "outputs": [
    {
     "name": "stdout",
     "output_type": "stream",
     "text": [
      "True\n",
      "False\n",
      "True\n",
      "True\n"
     ]
    }
   ],
   "source": [
    "# 수치형 이외의 다른 타입 비교\n",
    "print('abcde'> 'abc')\n",
    "print('aac'>'abc') #ascii 코드를 사용해서 aac가 abc보다 크게 된다.\n",
    "print([1,2,3] < [1,2,4]) \n",
    "print((1,2,3) < (1,2,4)) "
   ]
  },
  {
   "cell_type": "code",
   "execution_count": 139,
   "metadata": {},
   "outputs": [
    {
     "name": "stdout",
     "output_type": "stream",
     "text": [
      "True\n",
      "True\n",
      "True\n",
      "True\n"
     ]
    }
   ],
   "source": [
    "# 동질성 ==\n",
    "# 동일성 is\n",
    "a = 20\n",
    "b = 20\n",
    "c = a\n",
    "\n",
    "print(a == b) # True\n",
    "print(a is b) # True\n",
    "print(a is c) # True\n",
    "print(a == c) # True"
   ]
  },
  {
   "cell_type": "code",
   "execution_count": 159,
   "metadata": {},
   "outputs": [
    {
     "name": "stdout",
     "output_type": "stream",
     "text": [
      "True False True False\n"
     ]
    }
   ],
   "source": [
    "# 논리연산자 (not, or, and)\n",
    "a = 30\n",
    "b1 = a <=30\n",
    "b2 =not b1\n",
    "b3 = a <= 30 or a >= 100\n",
    "b4 = a <= 30 and a >= 100\n",
    "print(b1,b2,b3,b4)"
   ]
  },
  {
   "cell_type": "code",
   "execution_count": 176,
   "metadata": {},
   "outputs": [
    {
     "name": "stdout",
     "output_type": "stream",
     "text": [
      "True\n",
      "logical\n",
      "logical\n",
      "[10, 20]\n",
      "operator\n",
      "logical\n",
      "logical\n",
      "Hello World\n",
      "\n"
     ]
    }
   ],
   "source": [
    "# 논리식의 계산순서\n",
    "print(True or 'logical')\n",
    "print(False or 'logical')\n",
    "print([] or 'logical') #[]은 False\n",
    "print([10,20] or 'logical') # [10,20]은 True이다.\n",
    "print('operator' or 'logical')\n",
    "print('' or 'logical')\n",
    "# 객체가 비어있으면 False라는 논리식이 성립한다.\n",
    "\n",
    "n = None\n",
    "print(n or 'logical') # None값도 False값을 가진다.\n",
    "\n",
    "s = 'Hello World'\n",
    "s and print(s)\n",
    "\n",
    "s = ''\n",
    "s or print(s)"
   ]
  },
  {
   "cell_type": "code",
   "execution_count": null,
   "metadata": {},
   "outputs": [],
   "source": [
    "git config --global user.email 'pde159@naver.com'\n",
    "git config --global user.name 'pde159@naver.com'"
   ]
  }
 ],
 "metadata": {
  "kernelspec": {
   "display_name": "Python 3",
   "language": "python",
   "name": "python3"
  },
  "language_info": {
   "codemirror_mode": {
    "name": "ipython",
    "version": 3
   },
   "file_extension": ".py",
   "mimetype": "text/x-python",
   "name": "python",
   "nbconvert_exporter": "python",
   "pygments_lexer": "ipython3",
   "version": "3.8.3"
  }
 },
 "nbformat": 4,
 "nbformat_minor": 4
}

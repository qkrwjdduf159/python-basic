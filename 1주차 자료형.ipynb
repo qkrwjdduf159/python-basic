{
 "cells": [
  {
   "cell_type": "code",
   "execution_count": 1,
   "metadata": {},
   "outputs": [
    {
     "name": "stdout",
     "output_type": "stream",
     "text": [
      "hello\n"
     ]
    }
   ],
   "source": [
    "print('hello')"
   ]
  },
  {
   "cell_type": "code",
   "execution_count": 2,
   "metadata": {},
   "outputs": [
    {
     "data": {
      "text/plain": [
       "True"
      ]
     },
     "execution_count": 2,
     "metadata": {},
     "output_type": "execute_result"
    }
   ],
   "source": [
    "a = 10 #한개짜리 =은 대입을 의미한다.\n",
    "a == 10 # 같은것을 True와 False로 출력한다."
   ]
  },
  {
   "cell_type": "code",
   "execution_count": 3,
   "metadata": {},
   "outputs": [
    {
     "name": "stdout",
     "output_type": "stream",
     "text": [
      "Hello World\n"
     ]
    }
   ],
   "source": [
    "print('Hello World')"
   ]
  },
  {
   "cell_type": "code",
   "execution_count": 4,
   "metadata": {},
   "outputs": [],
   "source": [
    "#IDE (Integrated Developement Environment, 통합개발환경)\n",
    "# pycharm\n",
    "# vscode"
   ]
  },
  {
   "cell_type": "code",
   "execution_count": 5,
   "metadata": {},
   "outputs": [
    {
     "name": "stdout",
     "output_type": "stream",
     "text": [
      "Hello World\n"
     ]
    }
   ],
   "source": [
    "print('Hello World')"
   ]
  },
  {
   "cell_type": "code",
   "execution_count": 6,
   "metadata": {},
   "outputs": [
    {
     "name": "stdout",
     "output_type": "stream",
     "text": [
      "10\n",
      "big\n",
      "end\n"
     ]
    }
   ],
   "source": [
    "a = 10\n",
    "b = 20\n",
    "\n",
    "if a<b:\n",
    "    print(a)\n",
    "    print('big')\n",
    "    if a+1 ==2:\n",
    "        print(a+1)\n",
    "        print(a+2)\n",
    "print('end')"
   ]
  },
  {
   "cell_type": "code",
   "execution_count": 7,
   "metadata": {
    "scrolled": true
   },
   "outputs": [],
   "source": [
    "friend = 1\n",
    "a =10\n",
    "my_name = '박정열'\n",
    "_yourName = '둘리'\n",
    "member1 = '도우넛'\n",
    "\n",
    "# 에러\n",
    "# friends$ = 1\n",
    "# a! = 10\n",
    "# 1abc =  10\n",
    "# def =10"
   ]
  },
  {
   "cell_type": "code",
   "execution_count": 8,
   "metadata": {},
   "outputs": [
    {
     "name": "stdout",
     "output_type": "stream",
     "text": [
      "['False', 'None', 'True', 'and', 'as', 'assert', 'async', 'await', 'break', 'class', 'continue', 'def', 'del', 'elif', 'else', 'except', 'finally', 'for', 'from', 'global', 'if', 'import', 'in', 'is', 'lambda', 'nonlocal', 'not', 'or', 'pass', 'raise', 'return', 'try', 'while', 'with', 'yield']\n"
     ]
    }
   ],
   "source": [
    "import keyword\n",
    "print(keyword.kwlist)"
   ]
  },
  {
   "cell_type": "code",
   "execution_count": 9,
   "metadata": {},
   "outputs": [
    {
     "name": "stdout",
     "output_type": "stream",
     "text": [
      "1000\n"
     ]
    }
   ],
   "source": [
    "가격1 = 2000\n",
    "print(가격1 - 1000 )"
   ]
  },
  {
   "cell_type": "code",
   "execution_count": 10,
   "metadata": {},
   "outputs": [],
   "source": [
    "# 치환문"
   ]
  },
  {
   "cell_type": "code",
   "execution_count": 11,
   "metadata": {},
   "outputs": [],
   "source": [
    "# literal로 대입"
   ]
  },
  {
   "cell_type": "code",
   "execution_count": 12,
   "metadata": {},
   "outputs": [],
   "source": [
    "a = 1\n",
    "# 변수 이름\n",
    "b = a"
   ]
  },
  {
   "cell_type": "code",
   "execution_count": 13,
   "metadata": {},
   "outputs": [
    {
     "name": "stdout",
     "output_type": "stream",
     "text": [
      "1 1\n"
     ]
    }
   ],
   "source": [
    "print(a,b)"
   ]
  },
  {
   "cell_type": "code",
   "execution_count": 14,
   "metadata": {},
   "outputs": [],
   "source": [
    "# 연산식\n",
    "c = a+b"
   ]
  },
  {
   "cell_type": "code",
   "execution_count": 15,
   "metadata": {},
   "outputs": [
    {
     "data": {
      "text/plain": [
       "2"
      ]
     },
     "execution_count": 15,
     "metadata": {},
     "output_type": "execute_result"
    }
   ],
   "source": [
    "c"
   ]
  },
  {
   "cell_type": "code",
   "execution_count": 16,
   "metadata": {},
   "outputs": [
    {
     "name": "stdout",
     "output_type": "stream",
     "text": [
      "3.5 4.8 9.8\n"
     ]
    }
   ],
   "source": [
    "# 여러 개를 한번에 치환\n",
    "e,f,g = 3.5,4.8,9.8\n",
    "print(e,f,g)"
   ]
  },
  {
   "cell_type": "code",
   "execution_count": 17,
   "metadata": {},
   "outputs": [
    {
     "name": "stdout",
     "output_type": "stream",
     "text": [
      "10 20\n"
     ]
    }
   ],
   "source": [
    "# swap\n",
    "x =10\n",
    "y =20\n",
    "print(x,y)"
   ]
  },
  {
   "cell_type": "code",
   "execution_count": 18,
   "metadata": {},
   "outputs": [
    {
     "name": "stdout",
     "output_type": "stream",
     "text": [
      "20 10\n"
     ]
    }
   ],
   "source": [
    "# temp\n",
    "temp = x\n",
    "x = y\n",
    "y = temp\n",
    "print(x,y)"
   ]
  },
  {
   "cell_type": "code",
   "execution_count": 19,
   "metadata": {},
   "outputs": [
    {
     "name": "stdout",
     "output_type": "stream",
     "text": [
      "100 200\n",
      "200 100\n"
     ]
    }
   ],
   "source": [
    "# 파이썬 swap\n",
    "x = 100\n",
    "y = 200\n",
    "print(x,y)\n",
    "x,y = y,x\n",
    "print(x,y)"
   ]
  },
  {
   "cell_type": "markdown",
   "metadata": {},
   "source": [
    "# 부울(boolean) 참이나 거짓을 나타내는 값"
   ]
  },
  {
   "cell_type": "code",
   "execution_count": 20,
   "metadata": {},
   "outputs": [],
   "source": [
    "b0 = True\n",
    "b1 = False"
   ]
  },
  {
   "cell_type": "code",
   "execution_count": 21,
   "metadata": {},
   "outputs": [],
   "source": [
    "a = 1\n",
    "b = 2"
   ]
  },
  {
   "cell_type": "code",
   "execution_count": 22,
   "metadata": {},
   "outputs": [
    {
     "name": "stdout",
     "output_type": "stream",
     "text": [
      "False <class 'bool'>\n"
     ]
    }
   ],
   "source": [
    "b3 = a>b\n",
    "print(b3, type(b3))"
   ]
  },
  {
   "cell_type": "code",
   "execution_count": 23,
   "metadata": {},
   "outputs": [
    {
     "name": "stdout",
     "output_type": "stream",
     "text": [
      "0\n"
     ]
    }
   ],
   "source": [
    "b4 =b3*10   # True(1), False(0) 두 리터럴만 가진다.\n",
    "print(b4)"
   ]
  },
  {
   "cell_type": "code",
   "execution_count": 24,
   "metadata": {},
   "outputs": [
    {
     "name": "stdout",
     "output_type": "stream",
     "text": [
      "0\n",
      "False\n",
      "True\n"
     ]
    }
   ],
   "source": [
    "print(True *False)\n",
    "print(True and False)\n",
    "print(True or False)"
   ]
  },
  {
   "cell_type": "markdown",
   "metadata": {},
   "source": [
    "# 정수형"
   ]
  },
  {
   "cell_type": "code",
   "execution_count": 25,
   "metadata": {},
   "outputs": [
    {
     "name": "stdout",
     "output_type": "stream",
     "text": [
      "23 <class 'int'>\n",
      "23 False\n",
      "23 True\n"
     ]
    }
   ],
   "source": [
    "a = 23\n",
    "b = 20+3\n",
    "\n",
    "print(a, type(a))\n",
    "print(b, isinstance(b,bool))\n",
    "print(b, isinstance(b,int))"
   ]
  },
  {
   "cell_type": "code",
   "execution_count": 26,
   "metadata": {},
   "outputs": [
    {
     "name": "stdout",
     "output_type": "stream",
     "text": [
      "13\n"
     ]
    }
   ],
   "source": [
    "# 2진수, 10진수, 8진수, 16진수\n",
    "c = 0b1101\n",
    "print(c) #-->> 2진수"
   ]
  },
  {
   "cell_type": "code",
   "execution_count": 27,
   "metadata": {},
   "outputs": [
    {
     "name": "stdout",
     "output_type": "stream",
     "text": [
      "19\n"
     ]
    }
   ],
   "source": [
    "d = 0o23\n",
    "print(d) #-->> 8진수"
   ]
  },
  {
   "cell_type": "code",
   "execution_count": 28,
   "metadata": {},
   "outputs": [
    {
     "name": "stdout",
     "output_type": "stream",
     "text": [
      "35\n"
     ]
    }
   ],
   "source": [
    "e = 0x23\n",
    "print(e) #-->> 16진수"
   ]
  },
  {
   "cell_type": "code",
   "execution_count": 29,
   "metadata": {},
   "outputs": [],
   "source": [
    "# python 3.x에서 int,long 합쳐졌다. 따라서 표현범위가 무한대다."
   ]
  },
  {
   "cell_type": "code",
   "execution_count": 30,
   "metadata": {},
   "outputs": [
    {
     "name": "stdout",
     "output_type": "stream",
     "text": [
      "179769313486231590772930519078902473361797697894230657273430081157732675805500963132708477322407536021120113879871393357658789768814416622492847430639474124377767893424865485276302219601246094119453082952085005768838150682342462881473913110540827237163350510684586298239947245938479716304835356329624224137216 <class 'int'>\n",
      "1025\n"
     ]
    }
   ],
   "source": [
    "e = 2**1024\n",
    "print(e, type(e))\n",
    "print(e.bit_length())"
   ]
  },
  {
   "cell_type": "code",
   "execution_count": 31,
   "metadata": {},
   "outputs": [
    {
     "name": "stdout",
     "output_type": "stream",
     "text": [
      "0o46\n",
      "0x26\n",
      "0b100110\n"
     ]
    }
   ],
   "source": [
    "# 변환함수\n",
    "print(oct(38))\n",
    "print(hex(38))\n",
    "print(bin(38))"
   ]
  },
  {
   "cell_type": "code",
   "execution_count": 32,
   "metadata": {},
   "outputs": [
    {
     "name": "stdout",
     "output_type": "stream",
     "text": [
      "1.2 <class 'float'>\n",
      "2.0 <class 'float'>\n",
      "True\n"
     ]
    }
   ],
   "source": [
    "# floot형\n",
    "a = 1.2\n",
    "print(a, type(a))\n",
    "b = 2.0\n",
    "print(b, type(b))\n",
    "c = 2.\n",
    "print(c.is_integer())"
   ]
  },
  {
   "cell_type": "code",
   "execution_count": 33,
   "metadata": {},
   "outputs": [
    {
     "name": "stdout",
     "output_type": "stream",
     "text": [
      "3000.0 <class 'float'>\n",
      "2e-05 <class 'float'>\n"
     ]
    }
   ],
   "source": [
    "# 지수표현  0.0001 => 1e--4\n",
    "# 다른 언어처럼 소수점 표현도 가능하고, E 지수표현도 가능하다.\n",
    "c = 3e3\n",
    "print(c, type(c))\n",
    "e = 0.2e-4\n",
    "print(e, type(e))"
   ]
  },
  {
   "cell_type": "code",
   "execution_count": 34,
   "metadata": {},
   "outputs": [
    {
     "name": "stdout",
     "output_type": "stream",
     "text": [
      "(4+3j) <class 'complex'>\n",
      "(11+1j)\n"
     ]
    }
   ],
   "source": [
    "# 복소수 실수부 +허수부\n",
    "# 허수부는 j,J를 숫자뒤에 붙힌다.\n",
    "a = 4 + 3j\n",
    "print(a, type(a))\n",
    "# 복소수 연산\n",
    "b = 7- 2j\n",
    "print(a+b)\n",
    "# 실수는 실수끼리 허수는 허수끼리 계산이 된다."
   ]
  },
  {
   "cell_type": "code",
   "execution_count": 35,
   "metadata": {},
   "outputs": [
    {
     "data": {
      "text/plain": [
       "False"
      ]
     },
     "execution_count": 35,
     "metadata": {},
     "output_type": "execute_result"
    }
   ],
   "source": [
    "a = 10 + 20\n",
    "b = 10 > 20\n",
    "(((10 *b) - 10)>a) and (20<a)"
   ]
  },
  {
   "cell_type": "markdown",
   "metadata": {},
   "source": [
    "# 산술연산"
   ]
  },
  {
   "cell_type": "code",
   "execution_count": 36,
   "metadata": {},
   "outputs": [],
   "source": [
    "# 문자가 여러개 모여있는 것은 string\n",
    "# 숫자가 여러개 모여있으면 list\n",
    "#  "
   ]
  },
  {
   "cell_type": "code",
   "execution_count": 37,
   "metadata": {},
   "outputs": [],
   "source": [
    "# 산술연산 +,-,* ,/ \n",
    "# 관계연산 > ,< ,>= ,== ,<= \n",
    "# 논리연산 True, False\n",
    "# 비트연산"
   ]
  },
  {
   "cell_type": "markdown",
   "metadata": {},
   "source": [
    "# 사칙연산"
   ]
  },
  {
   "cell_type": "code",
   "execution_count": 38,
   "metadata": {},
   "outputs": [
    {
     "name": "stdout",
     "output_type": "stream",
     "text": [
      "5\n",
      "-1\n",
      "6\n",
      "0.6666666666666666\n"
     ]
    }
   ],
   "source": [
    "print(2+3)\n",
    "print(2-3)\n",
    "print(2*3)\n",
    "print(2/3)"
   ]
  },
  {
   "cell_type": "code",
   "execution_count": 39,
   "metadata": {
    "scrolled": true
   },
   "outputs": [
    {
     "name": "stdout",
     "output_type": "stream",
     "text": [
      "0\n",
      "8\n",
      "2\n"
     ]
    }
   ],
   "source": [
    "# //(몫 연산), **(지수 승), %(나머지)\n",
    "print(2//3)\n",
    "print(2**3)\n",
    "print(2%3)"
   ]
  },
  {
   "cell_type": "code",
   "execution_count": 40,
   "metadata": {},
   "outputs": [
    {
     "name": "stdout",
     "output_type": "stream",
     "text": [
      "(0, 2) <class 'tuple'>\n",
      "0 2\n"
     ]
    }
   ],
   "source": [
    "# divmod()함수  -->>  a에는 몫이 b에는 나머지가 들어간다\n",
    "result = divmod(2,3) # tuple하나를 입력해주고\n",
    "print(result, type(result)) \n",
    "a,b = result ##  -->> unpacking\n",
    "print(a,b)"
   ]
  },
  {
   "cell_type": "markdown",
   "metadata": {},
   "source": [
    "# 연산자 우선"
   ]
  },
  {
   "cell_type": "code",
   "execution_count": 41,
   "metadata": {},
   "outputs": [
    {
     "name": "stdout",
     "output_type": "stream",
     "text": [
      "14\n",
      "10\n",
      "-20\n"
     ]
    }
   ],
   "source": [
    "# 1.-\n",
    "# 2.*,/ \n",
    "# 3.+,-\n",
    "print(2+3*4)\n",
    "print(-2+3*4)\n",
    "print(-(2+3)*4)"
   ]
  },
  {
   "cell_type": "code",
   "execution_count": 42,
   "metadata": {},
   "outputs": [
    {
     "name": "stdout",
     "output_type": "stream",
     "text": [
      "2417851639229258349412352\n",
      "4096\n",
      "2417851639229258349412352\n"
     ]
    }
   ],
   "source": [
    "# 결합순서\n",
    "# 1. -> : + - * / \n",
    "# 2. <- : +(부호), -(부호),=, **\n",
    "print(2**3**4)\n",
    "print((2**3)**4)\n",
    "print(2**(3**4))"
   ]
  },
  {
   "cell_type": "markdown",
   "metadata": {},
   "source": [
    "# 객체의 대소 비교"
   ]
  },
  {
   "cell_type": "code",
   "execution_count": 43,
   "metadata": {},
   "outputs": [
    {
     "name": "stdout",
     "output_type": "stream",
     "text": [
      "False\n",
      "False\n",
      "True\n",
      "False\n",
      "False\n",
      "True\n"
     ]
    }
   ],
   "source": [
    "a = 1\n",
    "b = 3\n",
    "print(a > b)\n",
    "print(2 > 4)\n",
    "print( 1 <= 3)\n",
    "print( 1 >=4)\n",
    "print( 1 == 3)\n",
    "print( 1 != 3)"
   ]
  },
  {
   "cell_type": "code",
   "execution_count": 44,
   "metadata": {},
   "outputs": [
    {
     "name": "stdout",
     "output_type": "stream",
     "text": [
      "True\n",
      "True\n"
     ]
    }
   ],
   "source": [
    "# 복합 관계식\n",
    "# 0 < a < 10\n",
    "a = 4\n",
    "print(0 < a and a < 10) # 다른 프로그래밍이랑 다르게 복합관계식이 가능하다 \n",
    "print(0 < a < 10)"
   ]
  },
  {
   "cell_type": "code",
   "execution_count": 45,
   "metadata": {},
   "outputs": [
    {
     "name": "stdout",
     "output_type": "stream",
     "text": [
      "True\n",
      "False\n",
      "True\n",
      "True\n"
     ]
    }
   ],
   "source": [
    "# 수치형 이외의 다른 타입 비교\n",
    "print('abcde'> 'abc')\n",
    "print('aac'>'abc') #ascii 코드를 사용해서 aac가 abc보다 크게 된다.\n",
    "print([1,2,3] < [1,2,4]) \n",
    "print((1,2,3) < (1,2,4)) "
   ]
  },
  {
   "cell_type": "code",
   "execution_count": 46,
   "metadata": {},
   "outputs": [
    {
     "name": "stdout",
     "output_type": "stream",
     "text": [
      "True\n",
      "True\n",
      "True\n",
      "True\n"
     ]
    }
   ],
   "source": [
    "# 동질성 ==\n",
    "# 동일성 is\n",
    "a = 20\n",
    "b = 20\n",
    "c = a\n",
    "\n",
    "print(a == b) # True\n",
    "print(a is b) # True\n",
    "print(a is c) # True\n",
    "print(a == c) # True"
   ]
  },
  {
   "cell_type": "code",
   "execution_count": 47,
   "metadata": {},
   "outputs": [
    {
     "name": "stdout",
     "output_type": "stream",
     "text": [
      "True False True False\n"
     ]
    }
   ],
   "source": [
    "# 논리연산자 (not, or, and)\n",
    "a = 30\n",
    "b1 = a <=30\n",
    "b2 =not b1\n",
    "b3 = a <= 30 or a >= 100\n",
    "b4 = a <= 30 and a >= 100\n",
    "print(b1,b2,b3,b4)"
   ]
  },
  {
   "cell_type": "code",
   "execution_count": 48,
   "metadata": {},
   "outputs": [
    {
     "name": "stdout",
     "output_type": "stream",
     "text": [
      "True\n",
      "logical\n",
      "logical\n",
      "[10, 20]\n",
      "operator\n",
      "logical\n",
      "logical\n",
      "Hello World\n",
      "\n"
     ]
    }
   ],
   "source": [
    "# 논리식의 계산순서\n",
    "print(True or 'logical')\n",
    "print(False or 'logical')\n",
    "print([] or 'logical') #[]은 False\n",
    "print([10,20] or 'logical') # [10,20]은 True이다.\n",
    "print('operator' or 'logical')\n",
    "print('' or 'logical')\n",
    "# 객체가 비어있으면 False라는 논리식이 성립한다.\n",
    "\n",
    "n = None\n",
    "print(n or 'logical') # None값도 False값을 가진다.\n",
    "\n",
    "s = 'Hello World'\n",
    "s and print(s)\n",
    "\n",
    "s = ''\n",
    "s or print(s)"
   ]
  },
  {
   "cell_type": "code",
   "execution_count": 49,
   "metadata": {},
   "outputs": [
    {
     "name": "stdout",
     "output_type": "stream",
     "text": [
      "-6\n",
      "0\n"
     ]
    }
   ],
   "source": [
    "print(~5)\n",
    "print(~-1)"
   ]
  },
  {
   "cell_type": "code",
   "execution_count": 50,
   "metadata": {},
   "outputs": [
    {
     "name": "stdout",
     "output_type": "stream",
     "text": [
      "2\n"
     ]
    }
   ],
   "source": [
    "# <<연산자\n",
    "a =4\n",
    "print(a >> 1)"
   ]
  },
  {
   "cell_type": "code",
   "execution_count": 51,
   "metadata": {},
   "outputs": [
    {
     "name": "stdout",
     "output_type": "stream",
     "text": [
      "2\n"
     ]
    },
    {
     "data": {
      "text/plain": [
       "1"
      ]
     },
     "execution_count": 51,
     "metadata": {},
     "output_type": "execute_result"
    }
   ],
   "source": [
    "# and(&): True and False -> False 1 & 0 -> 0\n",
    "# or(|) : True or False -> True 1l0 -> 1\n",
    "# XOR(^) : True xor False -> True 1^0 -> 1\n",
    "a = 3\n",
    "print(a & 2)\n",
    "1|0"
   ]
  },
  {
   "cell_type": "markdown",
   "metadata": {},
   "source": [
    "# 문자열"
   ]
  },
  {
   "cell_type": "code",
   "execution_count": 52,
   "metadata": {},
   "outputs": [
    {
     "name": "stdout",
     "output_type": "stream",
     "text": [
      "Hello World <class 'str'>\n",
      "Hello\n",
      "World\n"
     ]
    }
   ],
   "source": [
    "# 한줄 문자열\n",
    "s1 = 'Hello World'\n",
    "s2 = 'Hello\\nWorld' # \\n을 이용하여 줄을 바꿀 수 있다.\n",
    "print(s1, type(s1))\n",
    "print(s2)"
   ]
  },
  {
   "cell_type": "code",
   "execution_count": 53,
   "metadata": {},
   "outputs": [
    {
     "name": "stdout",
     "output_type": "stream",
     "text": [
      "==============Multi_Line string Literal=======================\n",
      "\n",
      "Hello World\n",
      " <class 'str'>\n",
      "==============Multi_Line string Literal=======================\n"
     ]
    }
   ],
   "source": [
    "# 여러줄 문자열\n",
    "print('==============Multi_Line string Literal=======================')\n",
    "s3 = \"\"\"\n",
    "Hello World\n",
    "\"\"\"\n",
    "print(s3, type(s2))\n",
    "print('==============Multi_Line string Literal=======================')"
   ]
  },
  {
   "cell_type": "code",
   "execution_count": 54,
   "metadata": {},
   "outputs": [
    {
     "data": {
      "text/plain": [
       "'\\n주석1\\n주석2\\n주석3\\n'"
      ]
     },
     "execution_count": 54,
     "metadata": {},
     "output_type": "execute_result"
    }
   ],
   "source": [
    "# 여러줄 주석을 대신하여 사용할 수 있다.\n",
    "'''\n",
    "주석1\n",
    "주석2\n",
    "주석3\n",
    "'''"
   ]
  },
  {
   "cell_type": "code",
   "execution_count": 55,
   "metadata": {},
   "outputs": [
    {
     "name": "stdout",
     "output_type": "stream",
     "text": [
      "==============escape=======================\n",
      "Hello \n",
      "World\n",
      "I say 'hello world'\n",
      "둘리\t010-0000-0000\n",
      "==============escape=======================\n"
     ]
    }
   ],
   "source": [
    "# escape(\\붙어있는 문자)\n",
    "print('==============escape=======================')\n",
    "print('Hello \\nWorld')\n",
    "print(\"I say 'hello world'\") # 작은따옴표('')를 출력하고 싶으면 \"\"를 사용하여 출력한다.\n",
    "print(\"둘리\\t010-0000-0000\") # tab을 출력하려면 \\t를 사용하여 출력한다.\n",
    "\n",
    "print('==============escape=======================')"
   ]
  },
  {
   "cell_type": "code",
   "execution_count": 56,
   "metadata": {},
   "outputs": [
    {
     "name": "stdout",
     "output_type": "stream",
     "text": [
      "==============문자열 연산=======================\n",
      "First StringFirst StringFirst String\n",
      "==============문자열 연산: 인덱싱=======================\n",
      "F r s g\n"
     ]
    }
   ],
   "source": [
    "print('==============문자열 연산=======================')\n",
    "str1 = 'First String'\n",
    "str2 = 'Second String'\n",
    "\n",
    "str3 = str1*3\n",
    "print(str3)\n",
    "print('==============문자열 연산: 인덱싱=======================')\n",
    "print(str1[0],str1[2],str1[3],str1[11])"
   ]
  },
  {
   "cell_type": "code",
   "execution_count": 57,
   "metadata": {},
   "outputs": [
    {
     "name": "stdout",
     "output_type": "stream",
     "text": [
      "==============문자열 연산: 연결(concat)=======================\n",
      "First String Second String\n",
      "hello World\n"
     ]
    }
   ],
   "source": [
    "print('==============문자열 연산: 연결(concat)=======================')\n",
    "str4 = str1 +' '+ str2\n",
    "print(str4)\n",
    "# 리터럴들을 연결할 때에는 + 생략 가능\n",
    "str5 = 'hello' ' ' 'World'\n",
    "print(str5)"
   ]
  },
  {
   "cell_type": "code",
   "execution_count": 58,
   "metadata": {},
   "outputs": [
    {
     "name": "stdout",
     "output_type": "stream",
     "text": [
      "둘리10\n"
     ]
    }
   ],
   "source": [
    "# 문자열 객체와 정수 객체는 + 연산을 할 수 없다.\n",
    "name = '둘리'\n",
    "age = 10\n",
    "# print(name + age)\n",
    "print(name + str(age))"
   ]
  },
  {
   "cell_type": "code",
   "execution_count": 59,
   "metadata": {},
   "outputs": [
    {
     "name": "stdout",
     "output_type": "stream",
     "text": [
      "==============문자열 연산: in, not in=======================\n",
      "True\n",
      "False\n"
     ]
    }
   ],
   "source": [
    "print('==============문자열 연산: in, not in=======================')\n",
    "print('S' in str1)\n",
    "print('S' not in str2)"
   ]
  },
  {
   "cell_type": "code",
   "execution_count": 60,
   "metadata": {},
   "outputs": [
    {
     "name": "stdout",
     "output_type": "stream",
     "text": [
      "==============문자열 객체는 변경할 수 없다(immutable)=======================\n"
     ]
    }
   ],
   "source": [
    "print('==============문자열 객체는 변경할 수 없다(immutable)=======================')\n",
    "# str1[0] = 'f'\n",
    "# print(str1)"
   ]
  },
  {
   "cell_type": "code",
   "execution_count": 61,
   "metadata": {},
   "outputs": [
    {
     "name": "stdout",
     "output_type": "stream",
     "text": [
      "==============문자열 연산: 슬라이싱=======================\n",
      "con\n",
      "cond String\n",
      "Second String\n"
     ]
    }
   ],
   "source": [
    "print('==============문자열 연산: 슬라이싱=======================')\n",
    "str6 = str2[2:5]\n",
    "print(str6)\n",
    "str7 = str2[2:]\n",
    "print(str7)\n",
    "str8 = str2[:]\n",
    "print(str8)"
   ]
  },
  {
   "cell_type": "code",
   "execution_count": 62,
   "metadata": {},
   "outputs": [
    {
     "name": "stdout",
     "output_type": "stream",
     "text": [
      "==============문자열 연산: 객체 함수=======================\n",
      "I LIKE PYTHON\n",
      "i like python\n",
      "I LIKE pYTHON\n",
      "I like python\n",
      "\n",
      "2\n",
      "2\n",
      "17\n",
      "-1\n",
      "17\n",
      "index() 함수는 발견하지 못하면 예외가 발생한다.\n",
      "17\n",
      "True\n",
      "True\n",
      "True\n"
     ]
    }
   ],
   "source": [
    "print('==============문자열 연산: 객체 함수=======================')\n",
    "s1 = 'i like Python'\n",
    "print(s1.upper())\n",
    "print(s1.lower())\n",
    "print(s1.swapcase()) #대문자를 소문자로 소문자를 대문자로 바꿔준다.\n",
    "print(s1.capitalize()) # 문장의 첫단어를 대문자로 바꿔준다\n",
    "print(s.title()) # 단어들의 맨 앞을 소문자로 바꿔준다.\n",
    "\n",
    "# 검색 관련 함수\n",
    "s = 'I Like Python, I Like Deep Learning Also'\n",
    "print(s.count('Like'))\n",
    "print(s.find('Like'))\n",
    "print(s.find('Like', 5)) # 5번째 부터 Like를 찾아라\n",
    "print(s.find('AI')) #결과값이 없으면 -1로 표시된다.\n",
    "print(s.rfind('Like'))\n",
    "\n",
    "# print(s.index('AI')) -->> index가 없다면 에러가 발생한다.\n",
    "try:\n",
    "    print(s.index('AI'))\n",
    "except ValueError as e:\n",
    "    print('index() 함수는 발견하지 못하면 예외가 발생한다.') # error 내용을 지시할 수 있다.\n",
    "\n",
    "\n",
    "print(s.rindex('Like'))\n",
    "print(s.startswith('I Like')) # 문장이 I Like로 시작하는지를 알려준다.\n",
    "\n",
    "print(s.endswith('Also')) #문장이 Also로 끝나는지를 알려준다.\n",
    "print(s.endswith('Python',0, 13)) # 문장이 python으로 끝나는지 알려준다."
   ]
  },
  {
   "cell_type": "code",
   "execution_count": 63,
   "metadata": {},
   "outputs": [
    {
     "name": "stdout",
     "output_type": "stream",
     "text": [
      "-------spam and ham-------\n",
      "-------    spam and ham-------\n",
      "-------spam and ham     -------\n",
      "-------abc><><defg-------\n",
      " Hello Java Java Java\n",
      "['one', 'two', 'three'] <class 'type'>\n",
      "['1st line', '2nd line', '3rd line', '4th line']\n",
      "['1st line', '2nd line', '3rd line', '4th line']\n",
      "1st line 2nd line 3rd line 4th line\n",
      "True\n",
      "False\n",
      "True\n",
      "False\n",
      "True\n"
     ]
    }
   ],
   "source": [
    "# 편집 및 치환\n",
    "s = '    spam and ham     '\n",
    "print('-------' + s.strip() + '-------') # s.strip()은 공백을 없앤다.\n",
    "print('-------' + s.rstrip() + '-------') # s.rstrip()은 오른쪽으로\n",
    "print('-------' + s.lstrip() + '-------') # s.lstrip()은 왼쪽으로\n",
    "\n",
    "s = '<><><abc><><defg><><>'\n",
    "print('-------' + s.strip('<>') + '-------') #양쪽끝의 <>를 제거한다.\n",
    "\n",
    "s = ' Hello Python Python Python'\n",
    "print(s.replace('Python','Java')) # Python이라는 단어를 Java로 바꾼다.\n",
    "\n",
    "# 분리\n",
    "s = 'one:two:three'\n",
    "r=s.split(':',2)\n",
    "print(r, type)\n",
    "lines= '''1st line\n",
    "2nd line\n",
    "3rd line\n",
    "4th line'''\n",
    "\n",
    "r = lines.split('\\n')\n",
    "print(r)\n",
    "r = lines.splitlines()   #줄이 넘어가는 것을 기준으로 list로 분리한다.\n",
    "print(r)\n",
    "\n",
    "# 결합\n",
    "s = ' '.join(r)\n",
    "print(s)\n",
    "\n",
    "# 판별\n",
    "print('1234'.isdigit()) # 숫자인지 구분해준다\n",
    "print('abcd'.isdigit())\n",
    "print('abcd'.isalpha()) # 알파벳인지 구분해준다\n",
    "print('1234'.isalpha())\n",
    "print('ABCDEFG'.isupper()) # 대문자인지 확인한다."
   ]
  },
  {
   "cell_type": "code",
   "execution_count": 64,
   "metadata": {},
   "outputs": [
    {
     "name": "stdout",
     "output_type": "stream",
     "text": [
      "==============문자열 연산: 포멧팅=======================\n",
      "name:둘리,age:10\n",
      "name: 둘리,age: 10\n",
      "name: 둘리,age: 10\n",
      "name: 둘리,age: 10\n"
     ]
    }
   ],
   "source": [
    "print('==============문자열 연산: 포멧팅=======================')\n",
    "name = '둘리'\n",
    "age = 10\n",
    "\n",
    "#'name: 둘리, age: 10'-->> 이렇게 출력을 하고 싶다\n",
    "f1 = 'name:' + name + ',age:' + str(age)\n",
    "print(f1)\n",
    "\n",
    "f2 = 'name: {},age: {}'\n",
    "print(f2.format(name,age)) #순서대로 집어넣는다. but 순서를 기억해야한다.\n",
    "\n",
    "f3 = 'name: {1},age: {0}'\n",
    "print(f3.format(age,name))\n",
    "\n",
    "f4 = f'name: {name},age: {age}' # 이것이 제일 편하다 별표!!!!!!\n",
    "print(f4)"
   ]
  },
  {
   "cell_type": "markdown",
   "metadata": {},
   "source": [
    "# list"
   ]
  },
  {
   "cell_type": "code",
   "execution_count": 65,
   "metadata": {},
   "outputs": [
    {
     "name": "stdout",
     "output_type": "stream",
     "text": [
      "1 True Python 3.14\n",
      "1 True Python 3.14\n"
     ]
    }
   ],
   "source": [
    "l1 = []\n",
    "l2 = [1,True, 'Python',3.14]\n",
    "\n",
    "# 인덱싱\n",
    "print(l2[0],l2[1],l2[2],l2[3])\n",
    "print(l2[-4],l2[-3],l2[-2],l2[-1])"
   ]
  },
  {
   "cell_type": "markdown",
   "metadata": {},
   "source": [
    "### slicing\n",
    "print(len(l2))"
   ]
  },
  {
   "cell_type": "code",
   "execution_count": 66,
   "metadata": {},
   "outputs": [
    {
     "name": "stdout",
     "output_type": "stream",
     "text": [
      "[1, True, 'Python', 3.14, 1, True, 'Python', 3.14]\n"
     ]
    }
   ],
   "source": [
    "# 반복\n",
    "l3 = l2*2\n",
    "print(l3) # 2번 반복된다."
   ]
  },
  {
   "cell_type": "code",
   "execution_count": 67,
   "metadata": {},
   "outputs": [
    {
     "name": "stdout",
     "output_type": "stream",
     "text": [
      "[1, True, 'Python', 3.14, 1, 2, 3]\n"
     ]
    }
   ],
   "source": [
    "# 연결\n",
    "l4 = l2 + [1,2,3]\n",
    "print(l4)"
   ]
  },
  {
   "cell_type": "code",
   "execution_count": 68,
   "metadata": {},
   "outputs": [
    {
     "name": "stdout",
     "output_type": "stream",
     "text": [
      "False\n",
      "True\n"
     ]
    }
   ],
   "source": [
    "# in, not in\n",
    "print(5 in l4) # bool 형태로 나오게 된다.\n",
    "print(5 not in l4)"
   ]
  },
  {
   "cell_type": "code",
   "execution_count": 69,
   "metadata": {},
   "outputs": [
    {
     "name": "stdout",
     "output_type": "stream",
     "text": [
      "[1, 2, 3]\n",
      "[0, 1, 2, 3, 4, 5]\n",
      "[0, 1, 2, 3, 4, 5]\n",
      "[2, 3, 4, 5]\n",
      "[5]\n",
      "[5, 4, 3, 2, 1, 0]\n"
     ]
    }
   ],
   "source": [
    "l5 = [0,1,2,3,4,5]\n",
    "print(l5[1:4])\n",
    "print(l5[0:6])\n",
    "print(l5[:])\n",
    "print(l5[2:])\n",
    "print(l5[5::4])\n",
    "print(l5[-1::-1])"
   ]
  },
  {
   "cell_type": "code",
   "execution_count": 70,
   "metadata": {},
   "outputs": [
    {
     "name": "stdout",
     "output_type": "stream",
     "text": [
      "[0, 1, 3, 4, 5]\n",
      "[0, 2, 3, 4, 5]\n"
     ]
    }
   ],
   "source": [
    "# 변경가능한 객체\n",
    "del l5[2]\n",
    "print(l5)\n",
    "l5[1] = l5[1]+1\n",
    "print(l5)"
   ]
  },
  {
   "cell_type": "code",
   "execution_count": 71,
   "metadata": {},
   "outputs": [
    {
     "name": "stdout",
     "output_type": "stream",
     "text": [
      "[10, 20, 123, 1234]\n",
      "[100, 123, 1234]\n",
      "[100, 200, 1234]\n",
      "[100, 200, 300, 400, 500]\n"
     ]
    }
   ],
   "source": [
    "# 치환:slicing\n",
    "a = [1,12,123,1234]\n",
    "a[0:2] = [10,20]\n",
    "print(a)\n",
    "a[0:2] = [100]\n",
    "print(a)\n",
    "\n",
    "a[1:2] = [200]\n",
    "print(a)\n",
    "\n",
    "a[2:3] = [300,400,500]\n",
    "print(a)"
   ]
  },
  {
   "cell_type": "code",
   "execution_count": 72,
   "metadata": {},
   "outputs": [
    {
     "name": "stdout",
     "output_type": "stream",
     "text": [
      "[1, 123, 1234]\n",
      "[]\n"
     ]
    }
   ],
   "source": [
    "# 삭제 :slicing\n",
    "a = [1,12,123,1234]\n",
    "a[1:2] = [ ]\n",
    "print(a)\n",
    "a[0:] = []\n",
    "print(a)"
   ]
  },
  {
   "cell_type": "code",
   "execution_count": 98,
   "metadata": {},
   "outputs": [
    {
     "name": "stdout",
     "output_type": "stream",
     "text": [
      "[1, 'a', 12, 123, 1234]\n"
     ]
    }
   ],
   "source": [
    "# 중간삽입\n",
    "a = [1,12,123,1234]\n",
    "a[1:1] = ['a']\n",
    "print(a)"
   ]
  },
  {
   "cell_type": "code",
   "execution_count": 100,
   "metadata": {},
   "outputs": [
    {
     "name": "stdout",
     "output_type": "stream",
     "text": [
      "[1, 'a', 12, 123, 1234, 12345]\n"
     ]
    }
   ],
   "source": [
    "# 마지막 삽입\n",
    "a.insert(5,12345)\n",
    "print(a)"
   ]
  },
  {
   "cell_type": "code",
   "execution_count": 101,
   "metadata": {},
   "outputs": [
    {
     "name": "stdout",
     "output_type": "stream",
     "text": [
      "[0, 1, 'a', 12, 123, 1234, 12345]\n"
     ]
    }
   ],
   "source": [
    "# 처음 삽입\n",
    "a[:0] = [0]\n",
    "print(a)"
   ]
  },
  {
   "cell_type": "code",
   "execution_count": 102,
   "metadata": {},
   "outputs": [
    {
     "name": "stdout",
     "output_type": "stream",
     "text": [
      "[0, 1, -12, -1, 0, 'a', 12, 123, 1234, 12345]\n"
     ]
    }
   ],
   "source": [
    "# 여러개 삽입\n",
    "a[2:2] = [-12,-1,0]\n",
    "print(a)"
   ]
  },
  {
   "cell_type": "code",
   "execution_count": 103,
   "metadata": {},
   "outputs": [
    {
     "name": "stdout",
     "output_type": "stream",
     "text": [
      "[1, 2, 3, 4]\n"
     ]
    }
   ],
   "source": [
    "# 객체함수 : 삽입\n",
    "a = [1,3,4]\n",
    "a.insert(1,2) # a[1]에 2를 삽입한다.\n",
    "print(a)"
   ]
  },
  {
   "cell_type": "code",
   "execution_count": 104,
   "metadata": {},
   "outputs": [
    {
     "name": "stdout",
     "output_type": "stream",
     "text": [
      "[1, 2, 3, 4, 5]\n"
     ]
    }
   ],
   "source": [
    "# 뒤에 삽입\n",
    "a.append(5) \n",
    "print(a)"
   ]
  },
  {
   "cell_type": "code",
   "execution_count": 105,
   "metadata": {},
   "outputs": [
    {
     "name": "stdout",
     "output_type": "stream",
     "text": [
      "[0, 1, 2, 3, 4, 5]\n"
     ]
    }
   ],
   "source": [
    "# 앞에 삽입\n",
    "a.insert(0,0)\n",
    "print(a)"
   ]
  },
  {
   "cell_type": "code",
   "execution_count": 106,
   "metadata": {},
   "outputs": [
    {
     "name": "stdout",
     "output_type": "stream",
     "text": [
      "[5, 4, 3, 2, 1, 0]\n"
     ]
    }
   ],
   "source": [
    "# reverse\n",
    "a.reverse()\n",
    "print(a)"
   ]
  },
  {
   "cell_type": "code",
   "execution_count": 107,
   "metadata": {},
   "outputs": [
    {
     "name": "stdout",
     "output_type": "stream",
     "text": [
      "[5, 4, 2, 1, 0]\n"
     ]
    }
   ],
   "source": [
    "# 값으로 삭제\n",
    "a.remove(3)\n",
    "print(a)"
   ]
  },
  {
   "cell_type": "code",
   "execution_count": 108,
   "metadata": {},
   "outputs": [
    {
     "name": "stdout",
     "output_type": "stream",
     "text": [
      "값이 없는 경우 삭제시 예외 발생\n"
     ]
    }
   ],
   "source": [
    "try:\n",
    "    a.remove(3)\n",
    "except ValueError as e:\n",
    "    print('값이 없는 경우 삭제시 예외 발생')"
   ]
  },
  {
   "cell_type": "code",
   "execution_count": 109,
   "metadata": {},
   "outputs": [
    {
     "name": "stdout",
     "output_type": "stream",
     "text": [
      "[10, 20, 30]\n",
      "30\n",
      "20\n",
      "10\n",
      "[]\n",
      "[10, 20, 30]\n",
      "30\n",
      "20\n",
      "10\n",
      "[]\n"
     ]
    }
   ],
   "source": [
    "# 스택(stack)으로 사용하기 하나씩 리스트에 넣은다음 후입선출방식으로 뺴내는 방법이다.\n",
    "stck = [] \n",
    "stck.append(10) # push 10\n",
    "stck.append(20)\n",
    "stck.append(30)\n",
    "print(stck)\n",
    "\n",
    "print(stck.pop())\n",
    "print(stck.pop())\n",
    "print(stck.pop())\n",
    "print(stck)\n",
    "\n",
    "stck.insert(0,10)\n",
    "stck.insert(1,20)\n",
    "stck.insert(2,30)\n",
    "print(stck)\n",
    "\n",
    "print(stck.pop())\n",
    "print(stck.pop())\n",
    "print(stck.pop())\n",
    "print(stck)"
   ]
  },
  {
   "cell_type": "code",
   "execution_count": 110,
   "metadata": {},
   "outputs": [
    {
     "name": "stdout",
     "output_type": "stream",
     "text": [
      "[1, 2, 3, 4, 5]\n",
      "1\n",
      "2\n",
      "3\n",
      "4\n",
      "5\n",
      "[]\n"
     ]
    }
   ],
   "source": [
    "# 큐(Queue) 선입선출방식으로 먼저 넣은걸 뺀다\n",
    "q = [1,2]\n",
    "q.append(3)\n",
    "q.append(4)\n",
    "q.append(5)\n",
    "print(q)\n",
    "\n",
    "print(q.pop(0))\n",
    "print(q.pop(0))\n",
    "print(q.pop(0))\n",
    "print(q.pop(0))\n",
    "print(q.pop(0))\n",
    "print(q)"
   ]
  },
  {
   "cell_type": "markdown",
   "metadata": {},
   "source": [
    "# 셋(Set)"
   ]
  },
  {
   "cell_type": "code",
   "execution_count": 111,
   "metadata": {},
   "outputs": [
    {
     "name": "stdout",
     "output_type": "stream",
     "text": [
      "{1, 2, 3} <class 'set'>\n"
     ]
    }
   ],
   "source": [
    "s = {1,2,3}\n",
    "print(s, type(s))"
   ]
  },
  {
   "cell_type": "code",
   "execution_count": 112,
   "metadata": {},
   "outputs": [
    {
     "name": "stdout",
     "output_type": "stream",
     "text": [
      "3\n",
      "True\n",
      "True\n"
     ]
    }
   ],
   "source": [
    "# 기본 연산\n",
    "print(len(s))\n",
    "print(2 in s)\n",
    "print(10 not in s)"
   ]
  },
  {
   "cell_type": "code",
   "execution_count": 113,
   "metadata": {},
   "outputs": [
    {
     "name": "stdout",
     "output_type": "stream",
     "text": [
      "{'a', 'ai', 'hello', 'python', 'java'} <class 'set'>\n",
      "['a', 'ai', 'hello', 'python', 'java'] <class 'list'>\n",
      "1\n",
      "2\n",
      "1\n",
      "2\n",
      "2\n"
     ]
    }
   ],
   "source": [
    "# list의 중복성 제거 -->> set은 중복성이 없으므로 set으로 바꾼다음 다시 리스트로 바꿔준다.\n",
    "word_list = ['a','hello','java','python','python','ai','hello','ai']\n",
    "words = set(word_list) # 어떠한 것이 들어있는지 확인하고\n",
    "print(words, type(words))\n",
    "world_list2 = list(words)\n",
    "print(world_list2, type(world_list2))\n",
    "#리스트는 count함수를 사용 가능하다.\n",
    "print(word_list.count('a')) # 몇개 들어있는지 확인한다\n",
    "print(word_list.count('hello'))\n",
    "print(word_list.count('java'))\n",
    "print(word_list.count('python'))\n",
    "print(word_list.count('ai'))\n",
    "\n",
    "#for w in words:\n",
    "#    count = word_list.count(w)\n",
    "#    print(f'{w}:{count}')"
   ]
  },
  {
   "cell_type": "markdown",
   "metadata": {},
   "source": [
    "# Tuple"
   ]
  },
  {
   "cell_type": "code",
   "execution_count": 114,
   "metadata": {},
   "outputs": [
    {
     "name": "stdout",
     "output_type": "stream",
     "text": [
      "(1, 2, 3) <class 'tuple'>\n"
     ]
    }
   ],
   "source": [
    "# 생성\n",
    "t1 = ()\n",
    "t2 = (1,)\n",
    "t3 = (1,2,3)\n",
    "print(t3, type(t3))"
   ]
  },
  {
   "cell_type": "code",
   "execution_count": 115,
   "metadata": {},
   "outputs": [
    {
     "name": "stdout",
     "output_type": "stream",
     "text": [
      "1 2 3 1 2 3\n"
     ]
    }
   ],
   "source": [
    "# 인덱싱\n",
    "print(t3[-3],t3[-2],t3[-1],t3[0],t3[1],t3[2])"
   ]
  },
  {
   "cell_type": "code",
   "execution_count": 116,
   "metadata": {},
   "outputs": [
    {
     "name": "stdout",
     "output_type": "stream",
     "text": [
      "(2, 3)\n",
      "(1, 2, 3)\n",
      "(3, 2, 1)\n"
     ]
    }
   ],
   "source": [
    "# 슬라이싱(slicing)\n",
    "print(t3[1:3])\n",
    "print(t3[::])\n",
    "print(t3[::-1])"
   ]
  },
  {
   "cell_type": "code",
   "execution_count": 117,
   "metadata": {},
   "outputs": [
    {
     "name": "stdout",
     "output_type": "stream",
     "text": [
      "(1, 2, 3, 1, 2, 3)\n"
     ]
    }
   ],
   "source": [
    "# 반복\n",
    "t4 = t3*2\n",
    "print(t4)"
   ]
  },
  {
   "cell_type": "code",
   "execution_count": 118,
   "metadata": {},
   "outputs": [
    {
     "name": "stdout",
     "output_type": "stream",
     "text": [
      "(1, 2, 3, 4, 5, 6)\n"
     ]
    }
   ],
   "source": [
    "# 연결\n",
    "t5=t3 + (4,5,6)\n",
    "print(t5)"
   ]
  },
  {
   "cell_type": "code",
   "execution_count": 119,
   "metadata": {},
   "outputs": [
    {
     "data": {
      "text/plain": [
       "6"
      ]
     },
     "execution_count": 119,
     "metadata": {},
     "output_type": "execute_result"
    }
   ],
   "source": [
    "# 길이 구하기\n",
    "len(t5)"
   ]
  },
  {
   "cell_type": "code",
   "execution_count": 120,
   "metadata": {},
   "outputs": [
    {
     "name": "stdout",
     "output_type": "stream",
     "text": [
      "True\n"
     ]
    }
   ],
   "source": [
    "# not, not in 연산\n",
    "print(5 in t5)"
   ]
  },
  {
   "cell_type": "code",
   "execution_count": 121,
   "metadata": {},
   "outputs": [],
   "source": [
    "# immutable\n",
    "#t6 = ('apple','banana',10,20)\n",
    "# t6[2] = 90 -->> 오류가 발생한다.(tuple은 값을 바꿀수 없기 때문이다.)"
   ]
  },
  {
   "cell_type": "code",
   "execution_count": 122,
   "metadata": {},
   "outputs": [
    {
     "name": "stdout",
     "output_type": "stream",
     "text": [
      "(10, 20, 30)\n",
      "10 20 30\n"
     ]
    }
   ],
   "source": [
    "# 여러값 대입\n",
    "t = (10,20,30)\n",
    "x,y,z =t\n",
    "print(t)\n",
    "x,y,z = 10,20,30\n",
    "print(x,y,z)"
   ]
  },
  {
   "cell_type": "code",
   "execution_count": 123,
   "metadata": {},
   "outputs": [
    {
     "name": "stdout",
     "output_type": "stream",
     "text": [
      "10 20\n",
      "20 10\n"
     ]
    }
   ],
   "source": [
    "# 여러값 치환\n",
    "x, y = 10,20\n",
    "print(x,y)\n",
    "y,x = x,y\n",
    "print(x,y)"
   ]
  },
  {
   "cell_type": "code",
   "execution_count": 124,
   "metadata": {},
   "outputs": [
    {
     "name": "stdout",
     "output_type": "stream",
     "text": [
      "1\n",
      "2\n"
     ]
    }
   ],
   "source": [
    "# 객체함수\n",
    "t = (20,30,40,50,20)\n",
    "print(t.index(30))\n",
    "print(t.count(20))"
   ]
  },
  {
   "cell_type": "code",
   "execution_count": 125,
   "metadata": {},
   "outputs": [
    {
     "name": "stdout",
     "output_type": "stream",
     "text": [
      "{40, 50, 20, 30} <class 'set'>\n"
     ]
    }
   ],
   "source": [
    "# 변환\n",
    "s = set(t)\n",
    "print(s, type(s))"
   ]
  },
  {
   "cell_type": "code",
   "execution_count": 126,
   "metadata": {},
   "outputs": [
    {
     "name": "stdout",
     "output_type": "stream",
     "text": [
      "[20, 30, 40, 50, 20] <class 'list'>\n",
      "(20, 30, 40, 50, 20) <class 'tuple'>\n"
     ]
    }
   ],
   "source": [
    "# 변환2 (tuple -> list, list ->  tuple)\n",
    "l1 = list(t)\n",
    "print(l1,type(l1))\n",
    "l2 = tuple(l1)\n",
    "print(l2,type(l2))"
   ]
  },
  {
   "cell_type": "markdown",
   "metadata": {},
   "source": [
    "# packing"
   ]
  },
  {
   "cell_type": "code",
   "execution_count": 127,
   "metadata": {},
   "outputs": [
    {
     "name": "stdout",
     "output_type": "stream",
     "text": [
      "(10, 20, 30, 'python') <class 'tuple'>\n"
     ]
    }
   ],
   "source": [
    "# packing은 tuple로만 가능하다\n",
    "t = 10,20,30, 'python'\n",
    "print(t, type(t))"
   ]
  },
  {
   "cell_type": "code",
   "execution_count": 128,
   "metadata": {},
   "outputs": [
    {
     "name": "stdout",
     "output_type": "stream",
     "text": [
      "10 20 30 python\n"
     ]
    }
   ],
   "source": [
    "# unpacking\n",
    "a,b,c,d = t\n",
    "print(a,b,c,d)"
   ]
  },
  {
   "cell_type": "code",
   "execution_count": 129,
   "metadata": {},
   "outputs": [
    {
     "name": "stdout",
     "output_type": "stream",
     "text": [
      "1 [2, 3, 4, 5]\n"
     ]
    }
   ],
   "source": [
    "# a,b,c,d,e = t -->> 오류가 뜬다 길이가 안맞기 떄문에\n",
    "# unpacking 확장\n",
    "t = (1,2,3,4,5)\n",
    "a, *b = t\n",
    "print(a,b)"
   ]
  },
  {
   "cell_type": "code",
   "execution_count": 130,
   "metadata": {},
   "outputs": [
    {
     "name": "stdout",
     "output_type": "stream",
     "text": [
      "[1, 2, 3, 4] 5\n"
     ]
    }
   ],
   "source": [
    "*a,b = t\n",
    "print(a,b)"
   ]
  },
  {
   "cell_type": "code",
   "execution_count": 131,
   "metadata": {},
   "outputs": [
    {
     "name": "stdout",
     "output_type": "stream",
     "text": [
      "1 [2, 3, 4] 5\n"
     ]
    }
   ],
   "source": [
    "a,*b,c =t\n",
    "print(a,b,c)"
   ]
  },
  {
   "cell_type": "markdown",
   "metadata": {},
   "source": [
    "# Dict"
   ]
  },
  {
   "cell_type": "code",
   "execution_count": 132,
   "metadata": {},
   "outputs": [
    {
     "name": "stdout",
     "output_type": "stream",
     "text": [
      "{'basketball': 5, 'baseball': 9} <class 'dict'>\n"
     ]
    }
   ],
   "source": [
    "# 생성\n",
    "d1 = {'basketball':5, 'baseball':9}\n",
    "print(d1, type(d1))"
   ]
  },
  {
   "cell_type": "code",
   "execution_count": 133,
   "metadata": {},
   "outputs": [
    {
     "name": "stdout",
     "output_type": "stream",
     "text": [
      "{} <class 'dict'>\n"
     ]
    }
   ],
   "source": [
    "d2 = dict()\n",
    "print(d2, type(d2))"
   ]
  },
  {
   "cell_type": "code",
   "execution_count": 134,
   "metadata": {},
   "outputs": [
    {
     "name": "stdout",
     "output_type": "stream",
     "text": [
      "{'one': 1, 'two': 2, 'three': 3, 'four': 4, 'five': 5} <class 'dict'>\n"
     ]
    }
   ],
   "source": [
    "d3 = dict(one = 1,two =2, three=3,four =4, five=5)\n",
    "print(d3,type(d3))"
   ]
  },
  {
   "cell_type": "code",
   "execution_count": 135,
   "metadata": {},
   "outputs": [
    {
     "data": {
      "text/plain": [
       "{'one': 1, 'two': 2, 'three': 3, 'four': 4}"
      ]
     },
     "execution_count": 135,
     "metadata": {},
     "output_type": "execute_result"
    }
   ],
   "source": [
    "d4 = dict([('one',1),('two',2),('three',3),('four',4)])\n",
    "d4"
   ]
  },
  {
   "cell_type": "code",
   "execution_count": 136,
   "metadata": {},
   "outputs": [
    {
     "name": "stdout",
     "output_type": "stream",
     "text": [
      "9\n"
     ]
    }
   ],
   "source": [
    "# 인덱스 대신에 키로 데이터 접근\n",
    "print(d1['baseball'])"
   ]
  },
  {
   "cell_type": "code",
   "execution_count": 137,
   "metadata": {},
   "outputs": [],
   "source": [
    "# *,+ 연산은 지원하지 않는다.\n",
    "# d5 = d1+{'valleyball':6}\n",
    "# d5 = d1*2"
   ]
  },
  {
   "cell_type": "code",
   "execution_count": 138,
   "metadata": {},
   "outputs": [
    {
     "name": "stdout",
     "output_type": "stream",
     "text": [
      "2\n"
     ]
    }
   ],
   "source": [
    "# 크기\n",
    "print(len(d1))"
   ]
  },
  {
   "cell_type": "code",
   "execution_count": 139,
   "metadata": {},
   "outputs": [
    {
     "name": "stdout",
     "output_type": "stream",
     "text": [
      "False\n",
      "True\n"
     ]
    }
   ],
   "source": [
    "# not, not in\n",
    "print('soccer' in d1)\n",
    "print('soccer' not in d1)"
   ]
  },
  {
   "cell_type": "code",
   "execution_count": 140,
   "metadata": {},
   "outputs": [
    {
     "name": "stdout",
     "output_type": "stream",
     "text": [
      "{}\n",
      "{'twenty': 20, True: 1, 10: 'Ten'}\n"
     ]
    }
   ],
   "source": [
    "# 다양한 타입의 키를 사용할 수 있다.\n",
    "d6 ={}\n",
    "print(d6)\n",
    "# dict에 값을 추가할 수 있다.\n",
    "d6['twenty'] = 20\n",
    "d6[True] = 1\n",
    "d6[10] = 'Ten'\n",
    "print(d6)"
   ]
  },
  {
   "cell_type": "code",
   "execution_count": 141,
   "metadata": {},
   "outputs": [],
   "source": [
    "# 키로 변경가능한 타입을 사용할 수 없다\n",
    "# d6[[1,2,3]] = 6"
   ]
  },
  {
   "cell_type": "code",
   "execution_count": 142,
   "metadata": {},
   "outputs": [
    {
     "name": "stdout",
     "output_type": "stream",
     "text": [
      "dict_keys(['twenty', True, 10]) <class 'dict_keys'>\n"
     ]
    }
   ],
   "source": [
    "# 객체함수\n",
    "keys = d6.keys()\n",
    "print(keys, type(keys)) #키 값만 뽑아낼수 있다."
   ]
  },
  {
   "cell_type": "code",
   "execution_count": 143,
   "metadata": {},
   "outputs": [
    {
     "name": "stdout",
     "output_type": "stream",
     "text": [
      "dict_values([20, 1, 'Ten']) <class 'dict_values'>\n"
     ]
    }
   ],
   "source": [
    "values = d6.values() # value 값만 뽑아낸다.\n",
    "print(values, type(values))"
   ]
  },
  {
   "cell_type": "code",
   "execution_count": 144,
   "metadata": {},
   "outputs": [
    {
     "name": "stdout",
     "output_type": "stream",
     "text": [
      "dict_items([('twenty', 20), (True, 1), (10, 'Ten')]) <class 'dict_items'>\n"
     ]
    }
   ],
   "source": [
    "item = d6.items()\n",
    "print(item, type(item))"
   ]
  },
  {
   "cell_type": "code",
   "execution_count": 145,
   "metadata": {},
   "outputs": [
    {
     "name": "stdout",
     "output_type": "stream",
     "text": [
      "{'둘리': '000-0000-0000', '마이콜': '111-1111-1111', '또치': '222-2222-2222'} <class 'dict'>\n",
      "{'둘리': '000-0000-0000', '마이콜': '111-1111-1111', '또치': '222-2222-2222', '도우너': '333-3333-3333'}\n"
     ]
    }
   ],
   "source": [
    "# dict에 key와 value 추가\n",
    "phones = {'둘리': '000-0000-0000',\n",
    "         '마이콜':'111-1111-1111',\n",
    "         '또치':'222-2222-2222'}\n",
    "print(phones, type(phones))\n",
    "phones['도우너']='333-3333-3333'\n",
    "print(phones)"
   ]
  },
  {
   "cell_type": "code",
   "execution_count": 146,
   "metadata": {},
   "outputs": [
    {
     "name": "stdout",
     "output_type": "stream",
     "text": [
      "{'둘리': '000-0000-0000', '마이콜': '111-1111-1111', '또치': '222-2222-2222', '도우너': '333-3333-3333'}\n",
      "{'둘리': '000-0000-0000', '마이콜': '111-1111-1111', '또치': '222-2222-2222', '도우너': '333-3333-3333'}\n"
     ]
    }
   ],
   "source": [
    "p = phones\n",
    "print(p)\n",
    "print(phones)"
   ]
  },
  {
   "cell_type": "code",
   "execution_count": 147,
   "metadata": {},
   "outputs": [
    {
     "name": "stdout",
     "output_type": "stream",
     "text": [
      "{'둘리': '000-0000-0000', '마이콜': '111-1111-1111', '또치': '222-2222-2222', '도우너': '333-3333-3333'}\n",
      "{'둘리': '000-0000-0000', '마이콜': '111-1111-1111', '또치': '222-2222-2222', '도우너': '333-3333-3333'}\n",
      "{'둘리': '000-0000-0000', '마이콜': '111-1111-1111', '또치': '222-2222-2222', '도우너': '333-3333-3333', '길동이': '444-4444-4444'}\n",
      "{'둘리': '000-0000-0000', '마이콜': '111-1111-1111', '또치': '222-2222-2222', '도우너': '333-3333-3333'}\n"
     ]
    }
   ],
   "source": [
    "p = phones.copy()\n",
    "print(phones)\n",
    "print(p)\n",
    "phones['길동이'] = '444-4444-4444'\n",
    "print(phones)\n",
    "print(p)"
   ]
  },
  {
   "cell_type": "code",
   "execution_count": 148,
   "metadata": {},
   "outputs": [
    {
     "name": "stdout",
     "output_type": "stream",
     "text": [
      "000-0000-0000\n",
      "None\n"
     ]
    }
   ],
   "source": [
    "# 객체함수:get()\n",
    "# get()을 사용하는 이유: 키가 없는 경우에 None으로 반환받을 수 있다.\n",
    "# print(p['고길동']) -->> 키가 없을 때는 error가 일어난다.\n",
    "# []를 사용하면 키가 없는 경우에 예외가 발생한다.\n",
    "print(p.get('둘리'))\n",
    "print(p.get('고길동')) # None값이 나오게 된다."
   ]
  },
  {
   "cell_type": "code",
   "execution_count": 149,
   "metadata": {},
   "outputs": [
    {
     "name": "stdout",
     "output_type": "stream",
     "text": [
      "---\n",
      "{'둘리': '000-0000-0000', '마이콜': '111-1111-1111', '또치': '222-2222-2222', '도우너': '333-3333-3333', '고길동': '---'}\n"
     ]
    }
   ],
   "source": [
    "# 객체함수: setdefault()\n",
    "print(p.setdefault('고길동','---')) #고길동이 없으면 ---를 출력한다\n",
    "print(p) # 고길동이 없으므로 key는 고길동, value는 ---를 출력한다."
   ]
  },
  {
   "cell_type": "code",
   "execution_count": 150,
   "metadata": {},
   "outputs": [
    {
     "name": "stdout",
     "output_type": "stream",
     "text": [
      "000-0000-0000\n",
      "{'마이콜': '111-1111-1111', '또치': '222-2222-2222', '도우너': '333-3333-3333', '고길동': '---'}\n"
     ]
    }
   ],
   "source": [
    "# 객체함수: pop()\n",
    "print(p.pop('둘리'))\n",
    "print(p)"
   ]
  },
  {
   "cell_type": "code",
   "execution_count": 155,
   "metadata": {},
   "outputs": [
    {
     "name": "stdout",
     "output_type": "stream",
     "text": [
      "{}\n"
     ]
    }
   ],
   "source": [
    "# 객체함수:clear()\n",
    "p.clear() # 값을 전부 없앤다.\n",
    "print(p)"
   ]
  },
  {
   "cell_type": "code",
   "execution_count": 152,
   "metadata": {},
   "outputs": [
    {
     "name": "stdout",
     "output_type": "stream",
     "text": [
      "c a b c a b "
     ]
    }
   ],
   "source": [
    "# 순회\n",
    "d7 = {'c':3, 'a':1, 'b':2}\n",
    "for key in d7:\n",
    "    print(key,end=' ')\n",
    "    \n",
    "for key in d7.keys():\n",
    "    print(key, end = ' ')"
   ]
  },
  {
   "cell_type": "code",
   "execution_count": 153,
   "metadata": {},
   "outputs": [
    {
     "name": "stdout",
     "output_type": "stream",
     "text": [
      "dict_items([('c', 3), ('a', 1), ('b', 2)])\n"
     ]
    }
   ],
   "source": [
    "print(d7.items())"
   ]
  },
  {
   "cell_type": "code",
   "execution_count": 154,
   "metadata": {},
   "outputs": [
    {
     "name": "stdout",
     "output_type": "stream",
     "text": [
      "key = c,value = 3\n",
      "key = a,value = 1\n",
      "key = b,value = 2\n"
     ]
    }
   ],
   "source": [
    "for key,value in d7.items():\n",
    "    print(f'key = {key},value = {value}')"
   ]
  }
 ],
 "metadata": {
  "kernelspec": {
   "display_name": "Python 3",
   "language": "python",
   "name": "python3"
  },
  "language_info": {
   "codemirror_mode": {
    "name": "ipython",
    "version": 3
   },
   "file_extension": ".py",
   "mimetype": "text/x-python",
   "name": "python",
   "nbconvert_exporter": "python",
   "pygments_lexer": "ipython3",
   "version": "3.8.3"
  }
 },
 "nbformat": 4,
 "nbformat_minor": 4
}
